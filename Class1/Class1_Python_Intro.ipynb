{
 "cells": [
  {
   "cell_type": "markdown",
   "metadata": {},
   "source": [
    "# Intro to Python and Jupyter"
   ]
  },
  {
   "cell_type": "markdown",
   "metadata": {},
   "source": [
    "## 1.Quick Jupyter Notebook guide"
   ]
  },
  {
   "cell_type": "markdown",
   "metadata": {},
   "source": [
    "Use **Arrow keys** to move up and down\n",
    "***"
   ]
  },
  {
   "cell_type": "markdown",
   "metadata": {},
   "source": [
    "Use **Enter** to activate cell and **ESC** to deactivate it\n",
    "***"
   ]
  },
  {
   "cell_type": "markdown",
   "metadata": {
    "raw_mimetype": "text/latex"
   },
   "source": [
    "Use **CTRL+Enter** to execute cell (interpret Markdown or Python code)\n",
    "***"
   ]
  },
  {
   "cell_type": "markdown",
   "metadata": {},
   "source": [
    "While cell is deactivated (you are in Command mode) use **M** to turn cell into Markdown or **Y** to switch to Python\n",
    "___"
   ]
  },
  {
   "cell_type": "markdown",
   "metadata": {},
   "source": [
    "**a** adds cell above and **b** adds cell below (**ALT+Enter** execute and insert below)\n",
    "___"
   ]
  },
  {
   "cell_type": "markdown",
   "metadata": {},
   "source": [
    "Delete cell using **dd**\n",
    "___"
   ]
  },
  {
   "cell_type": "markdown",
   "metadata": {},
   "source": [
    "More shortcuts will pop up after pressing **H**"
   ]
  },
  {
   "cell_type": "markdown",
   "metadata": {},
   "source": [
    "## 2.Markdown guide"
   ]
  },
  {
   "cell_type": "markdown",
   "metadata": {},
   "source": [
    "[Markdown Cheatsheet](https://github.com/adam-p/markdown-here/wiki/Markdown-Cheatsheet)"
   ]
  },
  {
   "cell_type": "markdown",
   "metadata": {},
   "source": [
    "## 3.Python intro"
   ]
  },
  {
   "cell_type": "markdown",
   "metadata": {},
   "source": [
    "### 3.1. IPython"
   ]
  },
  {
   "cell_type": "markdown",
   "metadata": {},
   "source": [
    "**Getting help**"
   ]
  },
  {
   "cell_type": "code",
   "execution_count": null,
   "metadata": {
    "scrolled": false
   },
   "outputs": [],
   "source": [
    "help(len)"
   ]
  },
  {
   "cell_type": "code",
   "execution_count": null,
   "metadata": {},
   "outputs": [],
   "source": [
    "len.__doc__"
   ]
  },
  {
   "cell_type": "code",
   "execution_count": null,
   "metadata": {},
   "outputs": [],
   "source": [
    "#IPython extended help function\n",
    "len?"
   ]
  },
  {
   "cell_type": "code",
   "execution_count": null,
   "metadata": {},
   "outputs": [],
   "source": [
    "L=[1,2,3]\n",
    "L.insert?"
   ]
  },
  {
   "cell_type": "code",
   "execution_count": null,
   "metadata": {},
   "outputs": [],
   "source": [
    "def square(a):\n",
    "    \"\"\"Return the square of a.\"\"\"\n",
    "    return a**2"
   ]
  },
  {
   "cell_type": "code",
   "execution_count": null,
   "metadata": {},
   "outputs": [],
   "source": [
    "#Access source code\n",
    "square??"
   ]
  },
  {
   "cell_type": "code",
   "execution_count": null,
   "metadata": {},
   "outputs": [],
   "source": [
    "#Looking for methods with wildcards\n",
    "str.*find*?"
   ]
  },
  {
   "cell_type": "markdown",
   "metadata": {},
   "source": [
    "**Magic functions**"
   ]
  },
  {
   "cell_type": "code",
   "execution_count": null,
   "metadata": {},
   "outputs": [],
   "source": [
    "#Measure average exec time\n",
    "%timeit L = [n ** 2 for n in range(1000)]"
   ]
  },
  {
   "cell_type": "code",
   "execution_count": null,
   "metadata": {},
   "outputs": [],
   "source": [
    "#Help on magic functions\n",
    "%magic"
   ]
  },
  {
   "cell_type": "code",
   "execution_count": null,
   "metadata": {},
   "outputs": [],
   "source": [
    "%lsmagic"
   ]
  },
  {
   "cell_type": "code",
   "execution_count": null,
   "metadata": {},
   "outputs": [],
   "source": [
    "%%latex\n",
    "$$x_i=\\sum^N_{i=1}{e^i}$$"
   ]
  },
  {
   "cell_type": "code",
   "execution_count": null,
   "metadata": {
    "scrolled": true
   },
   "outputs": [],
   "source": [
    "print(In[2])"
   ]
  },
  {
   "cell_type": "code",
   "execution_count": null,
   "metadata": {},
   "outputs": [],
   "source": [
    "print(Out[3])"
   ]
  },
  {
   "cell_type": "code",
   "execution_count": null,
   "metadata": {},
   "outputs": [],
   "source": [
    "#Equivalent to Out[3]\n",
    "_3"
   ]
  },
  {
   "cell_type": "code",
   "execution_count": null,
   "metadata": {},
   "outputs": [],
   "source": [
    "print(_)"
   ]
  },
  {
   "cell_type": "code",
   "execution_count": null,
   "metadata": {},
   "outputs": [],
   "source": [
    "print(__)"
   ]
  },
  {
   "cell_type": "markdown",
   "metadata": {},
   "source": [
    "**Shell functions**"
   ]
  },
  {
   "cell_type": "code",
   "execution_count": null,
   "metadata": {},
   "outputs": [],
   "source": [
    "%pwd"
   ]
  },
  {
   "cell_type": "code",
   "execution_count": null,
   "metadata": {},
   "outputs": [],
   "source": [
    "%cd ..\n",
    "%cd"
   ]
  },
  {
   "cell_type": "code",
   "execution_count": null,
   "metadata": {},
   "outputs": [],
   "source": [
    "#ls - list \n",
    "#cp - copy e.g. cp file1.csv folder/.\n",
    "#mkdir - make directory e.g. mkdir results\n",
    "#rm - remove file (or directory) e.g. rm python.py, rm -r folder"
   ]
  },
  {
   "cell_type": "code",
   "execution_count": null,
   "metadata": {},
   "outputs": [],
   "source": [
    "!git"
   ]
  },
  {
   "cell_type": "code",
   "execution_count": null,
   "metadata": {},
   "outputs": [],
   "source": [
    "!curl --help"
   ]
  },
  {
   "cell_type": "markdown",
   "metadata": {},
   "source": [
    "### 3.2. Python"
   ]
  },
  {
   "cell_type": "markdown",
   "metadata": {},
   "source": [
    "#### Resources\n",
    "Official tutorial\n",
    "\n",
    "https://docs.python.org/3/tutorial/\n",
    "\n",
    "'Think' Series by Allen B. Downey\n",
    "\n",
    "https://greenteapress.com/wp/think-python-2e/\n",
    "\n",
    "Kind of like official docs but shorter and with more examples\n",
    "\n",
    "https://en.wikibooks.org/wiki/Non-Programmer%27s_Tutorial_for_Python_3\n",
    "\n",
    "Free programming books on GoalKicker:\n",
    "\n",
    "https://goalkicker.com/PythonBook/\n",
    "\n",
    "Online courses: Datacamp, Coursera, CodeAcademy"
   ]
  },
  {
   "cell_type": "code",
   "execution_count": null,
   "metadata": {},
   "outputs": [],
   "source": [
    "#Assignment operators\n",
    "number = 10 \n",
    "number += 12 # -= += /=\n",
    "print( number, type(number) )"
   ]
  },
  {
   "cell_type": "code",
   "execution_count": null,
   "metadata": {},
   "outputs": [],
   "source": [
    "# numbers types\n",
    "i = 3 # int\n",
    "f = 3.5 # float\n",
    "c = 2 + 3j  # complex\n",
    "\n",
    "print(type(i), type(f), type(c))"
   ]
  },
  {
   "cell_type": "code",
   "execution_count": null,
   "metadata": {},
   "outputs": [],
   "source": [
    "# Algebraic operations, comparison, existence in list\n",
    "print(2 + 4 )\n",
    "print(2 - 1)\n",
    "print(10 * 10)\n",
    "print(10 / 3)\n",
    "print(10 // 3)\n",
    "print(10 % 3)\n",
    "print(10 ** 2)\n",
    "\n",
    "# < > <= >=\n",
    "print(2 == 4)\n",
    "print(2 != 4)\n",
    "print(1 >= 2 )\n",
    "\n",
    "# not, and, or, in, not in\n",
    "x = [1, 2, 3]\n",
    "print(0 not in x)"
   ]
  },
  {
   "cell_type": "code",
   "execution_count": null,
   "metadata": {},
   "outputs": [],
   "source": [
    "#Strings\n",
    "print(\"I am a string\", type(\"I am a string\"))\n",
    "print('I am also a string', type('I am also a string'))\n",
    "print('This is how we do \"double quotes\"')"
   ]
  },
  {
   "cell_type": "code",
   "execution_count": null,
   "metadata": {},
   "outputs": [],
   "source": [
    "# Concatenation\n",
    "t = \"John\"\n",
    "t2 = 'Doe'\n",
    "print( t + \", \" + t )\n",
    "\n",
    "# 'Multiplying'\n",
    "print( (t + \"! \") * 10 )\n",
    "\n",
    "# indeksowanie tekstów\n",
    "t[0:3]"
   ]
  },
  {
   "cell_type": "code",
   "execution_count": null,
   "metadata": {},
   "outputs": [],
   "source": [
    "# Strings as immutable object\n",
    "t[0] = \"O\""
   ]
  },
  {
   "cell_type": "code",
   "execution_count": null,
   "metadata": {},
   "outputs": [],
   "source": [
    "long = 'Lorem ipsum dolor sit amet, consectetur adipiscing elit ' + \\\n",
    "'Nunc dapibus, felis dictum hendrerit luctus, risus elit iaculis nisl'\n",
    "print( long , \"\\n\")\n",
    "\n",
    "long2 = '''id semper nunc justo eget dui. Fusce vitae rutrum ligula, id maximus mi.\n",
    "Vivamus nibh sapien, consectetur sit amet hendrerit eu, tincidunt a nulla. \n",
    "In ut blandit diam. Curabitur eu quam non ante rhoncus efficitur pellentesque a dui. \n",
    "Morbi lorem nunc, placerat sed convallis sit amet, maximus ac erat. \n",
    "Phasellus a dui tempus ex fringilla tristique. Vivamus pretium vehicula erat sit amet congue. \n",
    "Pellentesque est velit, placerat nec sem ac, tristique auctor felis.\n",
    "'''\n",
    "\n",
    "print( long2 )"
   ]
  },
  {
   "cell_type": "code",
   "execution_count": null,
   "metadata": {},
   "outputs": [],
   "source": [
    "#Boolean\n",
    "print( type(True), type(False) )"
   ]
  },
  {
   "cell_type": "code",
   "execution_count": null,
   "metadata": {},
   "outputs": [],
   "source": [
    "#Lists\n",
    "print( list(t) )\n",
    "\n",
    "list1 = [1, 2, 3, 4, 5]\n",
    "list2 = [5, 6, 70 ,8, 90 ,10]\n",
    "list3 = [\"ala\", \"her cat\"]\n",
    "list4 = [100, 0, True, \"cat\", list3]\n",
    "list5 = list(range(0, 100, 5))\n",
    "print( list5 , type(list5) )\n"
   ]
  },
  {
   "cell_type": "code",
   "execution_count": null,
   "metadata": {},
   "outputs": [],
   "source": [
    "#sorting\n",
    "list2.sort(); print(list2)\n",
    "\n",
    "#concat\n",
    "print( list1 + list2 )\n",
    "\n",
    "#multi\n",
    "print( list1 * 3 )"
   ]
  },
  {
   "cell_type": "code",
   "execution_count": null,
   "metadata": {},
   "outputs": [],
   "source": [
    "#remove element\n",
    "del list1[0]\n",
    "list1.remove(4); print( list1 )"
   ]
  },
  {
   "cell_type": "code",
   "execution_count": null,
   "metadata": {},
   "outputs": [],
   "source": [
    "#Adding elements\n",
    "list1.append(\"999\"); print( list1 )\n",
    "\n",
    "#Modyfing\n",
    "list1[0] = \"ZERO\"; print( list1 )"
   ]
  },
  {
   "cell_type": "code",
   "execution_count": null,
   "metadata": {},
   "outputs": [],
   "source": [
    "#Tuple\n",
    "tup1 = tuple(list1)\n",
    "tup2 = (1, 2, \"nope\", list1)\n",
    "tup2.index(\"nope\")"
   ]
  },
  {
   "cell_type": "code",
   "execution_count": null,
   "metadata": {},
   "outputs": [],
   "source": [
    "#Tuples as immutable object\n",
    "tup2[2] = \"kot\""
   ]
  },
  {
   "cell_type": "code",
   "execution_count": null,
   "metadata": {},
   "outputs": [],
   "source": [
    "#Concat and multiply\n",
    "print( tup1 + tup2 )\n",
    "print( tup1 * 3 )"
   ]
  },
  {
   "cell_type": "code",
   "execution_count": null,
   "metadata": {},
   "outputs": [],
   "source": [
    "#Dict\n",
    "dict1 = { 1:100, 2:200, 3:300 }\n",
    "dict2 = { \"a\":\"ania\", \"b\":\"bonifacy\", \"c\":\"czarek\", \"d\":\"daria\"}\n",
    "dict2 = dict(a = \"ania\", b = \"bonifacy\", c = \"czarek\", d = \"daria\")\n",
    "\n",
    "print( dict2.keys() )\n",
    "print( dict2.values() )\n",
    "print( dict2[\"b\"])"
   ]
  },
  {
   "cell_type": "code",
   "execution_count": null,
   "metadata": {},
   "outputs": [],
   "source": [
    "#Can't index with numbers\n",
    "print( dict2[1] )"
   ]
  },
  {
   "cell_type": "code",
   "execution_count": null,
   "metadata": {},
   "outputs": [],
   "source": [
    "#Adding elements\n",
    "dict2[\"f\"] = \"filemon\"\n",
    "\n",
    "#Removing elements\n",
    "del dict2[\"a\"]\n",
    "\n",
    "dict2"
   ]
  },
  {
   "cell_type": "code",
   "execution_count": null,
   "metadata": {},
   "outputs": [],
   "source": [
    "#Passing by reference vs passing by value\n",
    "a = [1,2,3]\n",
    "b = a\n",
    "print( b )"
   ]
  },
  {
   "cell_type": "code",
   "execution_count": null,
   "metadata": {},
   "outputs": [],
   "source": [
    "a[0] = 100\n",
    "print( b )"
   ]
  },
  {
   "cell_type": "code",
   "execution_count": null,
   "metadata": {},
   "outputs": [],
   "source": [
    "#range object+function\n",
    "r = range(1, 11)\n",
    "print( r )\n",
    "print( list(r) )"
   ]
  },
  {
   "cell_type": "code",
   "execution_count": null,
   "metadata": {},
   "outputs": [],
   "source": [
    "print( r[6:9] )\n",
    "print( list(r[6:9]) )"
   ]
  },
  {
   "cell_type": "code",
   "execution_count": null,
   "metadata": {},
   "outputs": [],
   "source": [
    "#Slicing, properties of elements\n",
    "x = [1,1,2,3,4,5] # list\n",
    "y = (6,7,8,9,10) # tuple\n",
    "\n",
    "print( len(x), len(y) )\n",
    "print(max(x), max(y)) # min, sum, ...\n",
    "print( x.count(1) )\n",
    "\n",
    "x[1:4] = [99, 98, 97]\n",
    "print( x[-4])\n",
    "print( x[-4:])"
   ]
  },
  {
   "cell_type": "code",
   "execution_count": null,
   "metadata": {},
   "outputs": [],
   "source": [
    "# zip function\n",
    "z1 = (1, 2, 3, 4, 5)\n",
    "z2 = range(0, 100)\n",
    "z3 = [\"a\", \"b\", \"c\"]\n",
    "print(z1, z2, z3)\n",
    "\n",
    "zziped = list(zip(z1, z2, z3))\n",
    "print( zziped )\n",
    "print( list(zip(*zziped)) )"
   ]
  },
  {
   "cell_type": "code",
   "execution_count": null,
   "metadata": {},
   "outputs": [],
   "source": [
    "# dict with zip()\n",
    "print( dict(zip(z1, z3)) )"
   ]
  },
  {
   "cell_type": "code",
   "execution_count": null,
   "metadata": {},
   "outputs": [],
   "source": [
    "#Control flow - if/elif/else\n",
    "x = 1\n",
    "if x > 0:\n",
    "    print (\"x is positive\")\n",
    "elif x < 0: # optional\n",
    "    print (\"x is negative\")\n",
    "else: # optional\n",
    "    print (\"x is something else\")\n",
    "\n"
   ]
  },
  {
   "cell_type": "code",
   "execution_count": null,
   "metadata": {},
   "outputs": [],
   "source": [
    "# conditional inline expression\n",
    "x = 2\n",
    "print (x, \"is \", \"an even number\" if x % 2 == 0 else \"an odd number\")"
   ]
  },
  {
   "cell_type": "code",
   "execution_count": null,
   "metadata": {},
   "outputs": [],
   "source": [
    "# for\n",
    "list_for = [1, 2, 3]\n",
    "for i in list_for:\n",
    "    print( i**2, end = \"; \")\n"
   ]
  },
  {
   "cell_type": "code",
   "execution_count": null,
   "metadata": {},
   "outputs": [],
   "source": [
    "# range()\n",
    "for k in range(5):\n",
    "    print (k**2, end = \" \")"
   ]
  },
  {
   "cell_type": "code",
   "execution_count": null,
   "metadata": {},
   "outputs": [],
   "source": [
    "# while\n",
    "x = 100\n",
    "while x > 0:\n",
    "    print (x, end = \" \")\n",
    "    x -= 10\n"
   ]
  },
  {
   "cell_type": "code",
   "execution_count": null,
   "metadata": {},
   "outputs": [],
   "source": [
    "# list comprehension\n",
    "[i**2 for i in range(5)]"
   ]
  },
  {
   "cell_type": "code",
   "execution_count": null,
   "metadata": {},
   "outputs": [],
   "source": [
    "# conditional list comprehension\n",
    "[i**2 for i in range(5) if i % 2 == 0]"
   ]
  },
  {
   "cell_type": "code",
   "execution_count": null,
   "metadata": {},
   "outputs": [],
   "source": [
    "# dict comprehension\n",
    "tabl_mn = {(x,y) : x*y for x in range(1,6) for y in range(1,6)}\n",
    "tabl_mn"
   ]
  },
  {
   "cell_type": "code",
   "execution_count": null,
   "metadata": {},
   "outputs": [],
   "source": [
    "#Function\n",
    "def glue(t1, t2):\n",
    "    # body\n",
    "    return t1 + \" \" + t2\n",
    "\n",
    "print( glue(\"Who let the\", \"dogs out?\"))\n",
    "\n",
    "def polym(x):\n",
    "    return 3*x**2 + 2*x - 10\n",
    "\n",
    "print( polym(100) )"
   ]
  },
  {
   "cell_type": "code",
   "execution_count": null,
   "metadata": {},
   "outputs": [],
   "source": [
    "# assigning function to variable\n",
    "stolen_glue = glue\n",
    "stolen_glue(\"X\", \"Y\")"
   ]
  },
  {
   "cell_type": "code",
   "execution_count": null,
   "metadata": {},
   "outputs": [],
   "source": [
    "def f1(x):\n",
    "    return x**2 - 2*x + 10\n",
    "\n",
    "# lambda function\n",
    "f2 = lambda x : x**2 - 2*x + 10\n",
    "\n",
    "print(f1(1),f2(1))"
   ]
  },
  {
   "cell_type": "code",
   "execution_count": null,
   "metadata": {},
   "outputs": [],
   "source": [
    "# lambda + conditional expression\n",
    "f3 = lambda x: x**0.5 if x >= 0 else print(\"negative numberr!!!\")\n",
    "\n",
    "print( f3(16) )\n",
    "print( f3(-16) )"
   ]
  },
  {
   "cell_type": "code",
   "execution_count": null,
   "metadata": {},
   "outputs": [],
   "source": [
    "# using lambda to do operations elementwise\n",
    "list_x = [1, -1, 4, 5]\n",
    "list_y = [8, -4, 7, 3]\n",
    "\n",
    "list(map(lambda x, y: x**2 + y**2, list_x, list_y))"
   ]
  },
  {
   "cell_type": "code",
   "execution_count": null,
   "metadata": {},
   "outputs": [],
   "source": [
    "# alternative - list comprehension\n",
    "[sum(x) for x in list(zip( [x**2 for x in list_x], [y**2 for y in list_y] ))]"
   ]
  }
 ],
 "metadata": {
  "celltoolbar": "Raw Cell Format",
  "kernelspec": {
   "display_name": "Python 3",
   "language": "python",
   "name": "python3"
  },
  "language_info": {
   "codemirror_mode": {
    "name": "ipython",
    "version": 3
   },
   "file_extension": ".py",
   "mimetype": "text/x-python",
   "name": "python",
   "nbconvert_exporter": "python",
   "pygments_lexer": "ipython3",
   "version": "3.7.4"
  }
 },
 "nbformat": 4,
 "nbformat_minor": 2
}
